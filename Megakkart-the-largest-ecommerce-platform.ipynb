{
 "cells": [
  {
   "cell_type": "code",
   "execution_count": 1,
   "id": "cbeb1033",
   "metadata": {},
   "outputs": [],
   "source": [
    "import pandas as pd\n",
    "import numpy as np\n",
    "import matplotlib.pyplot as plt"
   ]
  },
  {
   "cell_type": "code",
   "execution_count": 2,
   "id": "d8f6d99a",
   "metadata": {},
   "outputs": [],
   "source": [
    "train_data = pd.read_csv(\"ecommerce_train.csv\")"
   ]
  },
  {
   "cell_type": "code",
   "execution_count": 3,
   "id": "3f35127f",
   "metadata": {},
   "outputs": [
    {
     "name": "stdout",
     "output_type": "stream",
     "text": [
      "<class 'pandas.core.frame.DataFrame'>\n",
      "RangeIndex: 40000 entries, 0 to 39999\n",
      "Data columns (total 19 columns):\n",
      " #   Column                   Non-Null Count  Dtype  \n",
      "---  ------                   --------------  -----  \n",
      " 0   session_id               40000 non-null  int64  \n",
      " 1   administrative           40000 non-null  int64  \n",
      " 2   administrative_duration  40000 non-null  float64\n",
      " 3   informational            40000 non-null  int64  \n",
      " 4   informational_duration   40000 non-null  float64\n",
      " 5   productrelated           40000 non-null  int64  \n",
      " 6   productrelated_duration  40000 non-null  float64\n",
      " 7   bouncerates              40000 non-null  float64\n",
      " 8   exitrates                40000 non-null  float64\n",
      " 9   pagevalues               40000 non-null  float64\n",
      " 10  specialday               40000 non-null  float64\n",
      " 11  month                    40000 non-null  object \n",
      " 12  operatingsystems         40000 non-null  object \n",
      " 13  browser                  40000 non-null  object \n",
      " 14  region                   40000 non-null  int64  \n",
      " 15  traffictype              40000 non-null  object \n",
      " 16  visitortype              40000 non-null  object \n",
      " 17  weekend                  40000 non-null  bool   \n",
      " 18  revenue                  40000 non-null  int64  \n",
      "dtypes: bool(1), float64(7), int64(6), object(5)\n",
      "memory usage: 5.5+ MB\n"
     ]
    }
   ],
   "source": [
    "train_data.info()"
   ]
  },
  {
   "cell_type": "code",
   "execution_count": 4,
   "id": "a2b97132",
   "metadata": {},
   "outputs": [
    {
     "data": {
      "text/plain": [
       "session_id                 0\n",
       "administrative             0\n",
       "administrative_duration    0\n",
       "informational              0\n",
       "informational_duration     0\n",
       "productrelated             0\n",
       "productrelated_duration    0\n",
       "bouncerates                0\n",
       "exitrates                  0\n",
       "pagevalues                 0\n",
       "specialday                 0\n",
       "month                      0\n",
       "operatingsystems           0\n",
       "browser                    0\n",
       "region                     0\n",
       "traffictype                0\n",
       "visitortype                0\n",
       "weekend                    0\n",
       "revenue                    0\n",
       "dtype: int64"
      ]
     },
     "execution_count": 4,
     "metadata": {},
     "output_type": "execute_result"
    }
   ],
   "source": [
    "#test_data['time'] = pd.to_datetime(test_data['time'],format = '%I%p').dt.sec\n",
    "\n",
    "train_data.isna().sum()"
   ]
  },
  {
   "cell_type": "code",
   "execution_count": 5,
   "id": "f1e8d7bc",
   "metadata": {},
   "outputs": [
    {
     "name": "stdout",
     "output_type": "stream",
     "text": [
      "month: \n",
      " ['Nov' 'Dec' 'May' 'June' 'Mar' 'Sep' 'Aug' 'Oct' 'Jul' 'Feb']\n",
      "\n",
      "operatingsystems: \n",
      " ['2' '3' '1' '4' '8' '*']\n",
      "\n",
      "browser: \n",
      " ['2' '1' '10' '5' '7' '4' '8' '3' '6' '*' '13']\n",
      "\n",
      "traffictype: \n",
      " ['2' '3' '20' '1' '4' '11' '6' '13' '5' '*' '10' '8' '15' '7' '9']\n",
      "\n",
      "visitortype: \n",
      " ['Returning_Visitor' 'New_Visitor' 'Other']\n",
      "\n"
     ]
    }
   ],
   "source": [
    "#Checking for unique values in categorical columns\n",
    "for i in train_data.columns:\n",
    "    if train_data[i].dtype == type(object):\n",
    "        print(i,end=': ')\n",
    "        print('\\n',train_data[i].unique())\n",
    "        print()"
   ]
  },
  {
   "cell_type": "code",
   "execution_count": 6,
   "id": "4f807005",
   "metadata": {},
   "outputs": [],
   "source": [
    "#train\n",
    "operating_mode = train_data[\"operatingsystems\"].mode()[0]\n",
    "browser_Mode = train_data[\"browser\"].mode()[0]\n",
    "traffictype_Mode = train_data[\"traffictype\"].mode()[0]\n"
   ]
  },
  {
   "cell_type": "code",
   "execution_count": 7,
   "id": "571536c6",
   "metadata": {},
   "outputs": [],
   "source": [
    "train_data =train_data.replace('*', np.nan)"
   ]
  },
  {
   "cell_type": "code",
   "execution_count": 8,
   "id": "f6cd2b40",
   "metadata": {},
   "outputs": [
    {
     "name": "stdout",
     "output_type": "stream",
     "text": [
      "month: \n",
      " ['Nov' 'Dec' 'May' 'June' 'Mar' 'Sep' 'Aug' 'Oct' 'Jul' 'Feb']\n",
      "\n",
      "operatingsystems: \n",
      " ['2' '3' '1' '4' '8' nan]\n",
      "\n",
      "browser: \n",
      " ['2' '1' '10' '5' '7' '4' '8' '3' '6' nan '13']\n",
      "\n",
      "traffictype: \n",
      " ['2' '3' '20' '1' '4' '11' '6' '13' '5' nan '10' '8' '15' '7' '9']\n",
      "\n",
      "visitortype: \n",
      " ['Returning_Visitor' 'New_Visitor' 'Other']\n",
      "\n"
     ]
    }
   ],
   "source": [
    "#Checking for unique values in categorical columns after * replacement\n",
    "for i in train_data.columns:\n",
    "    if train_data[i].dtype == type(object):\n",
    "        print(i,end=': ')\n",
    "        print('\\n',train_data[i].unique())\n",
    "        print()"
   ]
  },
  {
   "cell_type": "code",
   "execution_count": 9,
   "id": "d6933edf",
   "metadata": {},
   "outputs": [],
   "source": [
    "#### fill the mode to the na value\n",
    "train_data[\"operatingsystems\"] = train_data[\"operatingsystems\"].fillna(operating_mode)\n",
    "train_data[\"browser\"] = train_data[\"browser\"].fillna(browser_Mode)\n",
    "train_data[\"traffictype\"] = train_data[\"traffictype\"].fillna(traffictype_Mode)"
   ]
  },
  {
   "cell_type": "code",
   "execution_count": 10,
   "id": "fb91956c",
   "metadata": {},
   "outputs": [],
   "source": [
    "### Lable encoding for the visitor"
   ]
  },
  {
   "cell_type": "code",
   "execution_count": 11,
   "id": "16a79f62",
   "metadata": {},
   "outputs": [
    {
     "data": {
      "text/plain": [
       "0    0.841725\n",
       "1    0.158275\n",
       "Name: revenue, dtype: float64"
      ]
     },
     "execution_count": 11,
     "metadata": {},
     "output_type": "execute_result"
    }
   ],
   "source": [
    "#Checking the distribution of target variable in terms of percentage\n",
    "train_data['revenue'].value_counts(normalize=True)"
   ]
  },
  {
   "cell_type": "code",
   "execution_count": 12,
   "id": "745bdb4d",
   "metadata": {},
   "outputs": [
    {
     "data": {
      "text/plain": [
       "array(['Nov', 'Dec', 'May', 'June', 'Mar', 'Sep', 'Aug', 'Oct', 'Jul',\n",
       "       'Feb'], dtype=object)"
      ]
     },
     "execution_count": 12,
     "metadata": {},
     "output_type": "execute_result"
    }
   ],
   "source": [
    "train_data['month'].unique()"
   ]
  },
  {
   "cell_type": "code",
   "execution_count": 13,
   "id": "796378b4",
   "metadata": {},
   "outputs": [],
   "source": [
    "train_data['month']=train_data['month'].map({'Nov':11, 'Dec':12, 'May':5, 'June':6, 'Mar':3, 'Sep':9, 'Aug':8, 'Oct':10, 'Jul':7,'Feb':2})"
   ]
  },
  {
   "cell_type": "code",
   "execution_count": 14,
   "id": "7c7da1d9",
   "metadata": {},
   "outputs": [
    {
     "data": {
      "text/html": [
       "<div>\n",
       "<style scoped>\n",
       "    .dataframe tbody tr th:only-of-type {\n",
       "        vertical-align: middle;\n",
       "    }\n",
       "\n",
       "    .dataframe tbody tr th {\n",
       "        vertical-align: top;\n",
       "    }\n",
       "\n",
       "    .dataframe thead th {\n",
       "        text-align: right;\n",
       "    }\n",
       "</style>\n",
       "<table border=\"1\" class=\"dataframe\">\n",
       "  <thead>\n",
       "    <tr style=\"text-align: right;\">\n",
       "      <th></th>\n",
       "      <th>session_id</th>\n",
       "      <th>administrative</th>\n",
       "      <th>administrative_duration</th>\n",
       "      <th>informational</th>\n",
       "      <th>informational_duration</th>\n",
       "      <th>productrelated</th>\n",
       "      <th>productrelated_duration</th>\n",
       "      <th>bouncerates</th>\n",
       "      <th>exitrates</th>\n",
       "      <th>pagevalues</th>\n",
       "      <th>specialday</th>\n",
       "      <th>month</th>\n",
       "      <th>operatingsystems</th>\n",
       "      <th>browser</th>\n",
       "      <th>region</th>\n",
       "      <th>traffictype</th>\n",
       "      <th>visitortype</th>\n",
       "      <th>weekend</th>\n",
       "      <th>revenue</th>\n",
       "    </tr>\n",
       "  </thead>\n",
       "  <tbody>\n",
       "    <tr>\n",
       "      <th>0</th>\n",
       "      <td>139957</td>\n",
       "      <td>2</td>\n",
       "      <td>47.500000</td>\n",
       "      <td>0</td>\n",
       "      <td>0.0</td>\n",
       "      <td>19</td>\n",
       "      <td>1203.480714</td>\n",
       "      <td>0.000000</td>\n",
       "      <td>0.027421</td>\n",
       "      <td>6.748509</td>\n",
       "      <td>0.0</td>\n",
       "      <td>11</td>\n",
       "      <td>2</td>\n",
       "      <td>2</td>\n",
       "      <td>3</td>\n",
       "      <td>2</td>\n",
       "      <td>Returning_Visitor</td>\n",
       "      <td>False</td>\n",
       "      <td>0</td>\n",
       "    </tr>\n",
       "    <tr>\n",
       "      <th>1</th>\n",
       "      <td>496587</td>\n",
       "      <td>0</td>\n",
       "      <td>0.000000</td>\n",
       "      <td>0</td>\n",
       "      <td>0.0</td>\n",
       "      <td>7</td>\n",
       "      <td>152.000000</td>\n",
       "      <td>0.000000</td>\n",
       "      <td>0.033333</td>\n",
       "      <td>0.000000</td>\n",
       "      <td>0.0</td>\n",
       "      <td>12</td>\n",
       "      <td>3</td>\n",
       "      <td>2</td>\n",
       "      <td>6</td>\n",
       "      <td>3</td>\n",
       "      <td>Returning_Visitor</td>\n",
       "      <td>False</td>\n",
       "      <td>0</td>\n",
       "    </tr>\n",
       "    <tr>\n",
       "      <th>2</th>\n",
       "      <td>440268</td>\n",
       "      <td>7</td>\n",
       "      <td>206.500000</td>\n",
       "      <td>1</td>\n",
       "      <td>389.9</td>\n",
       "      <td>95</td>\n",
       "      <td>4415.889952</td>\n",
       "      <td>0.000133</td>\n",
       "      <td>0.033750</td>\n",
       "      <td>2.676062</td>\n",
       "      <td>0.0</td>\n",
       "      <td>11</td>\n",
       "      <td>2</td>\n",
       "      <td>2</td>\n",
       "      <td>1</td>\n",
       "      <td>20</td>\n",
       "      <td>Returning_Visitor</td>\n",
       "      <td>False</td>\n",
       "      <td>0</td>\n",
       "    </tr>\n",
       "    <tr>\n",
       "      <th>3</th>\n",
       "      <td>294672</td>\n",
       "      <td>1</td>\n",
       "      <td>18.258571</td>\n",
       "      <td>0</td>\n",
       "      <td>0.0</td>\n",
       "      <td>103</td>\n",
       "      <td>8305.048706</td>\n",
       "      <td>0.004871</td>\n",
       "      <td>0.034746</td>\n",
       "      <td>6.824908</td>\n",
       "      <td>0.0</td>\n",
       "      <td>11</td>\n",
       "      <td>2</td>\n",
       "      <td>2</td>\n",
       "      <td>1</td>\n",
       "      <td>2</td>\n",
       "      <td>Returning_Visitor</td>\n",
       "      <td>True</td>\n",
       "      <td>1</td>\n",
       "    </tr>\n",
       "    <tr>\n",
       "      <th>4</th>\n",
       "      <td>497475</td>\n",
       "      <td>0</td>\n",
       "      <td>0.000000</td>\n",
       "      <td>0</td>\n",
       "      <td>0.0</td>\n",
       "      <td>42</td>\n",
       "      <td>1305.108333</td>\n",
       "      <td>0.016068</td>\n",
       "      <td>0.039742</td>\n",
       "      <td>0.000000</td>\n",
       "      <td>0.0</td>\n",
       "      <td>12</td>\n",
       "      <td>3</td>\n",
       "      <td>2</td>\n",
       "      <td>5</td>\n",
       "      <td>2</td>\n",
       "      <td>Returning_Visitor</td>\n",
       "      <td>False</td>\n",
       "      <td>0</td>\n",
       "    </tr>\n",
       "    <tr>\n",
       "      <th>...</th>\n",
       "      <td>...</td>\n",
       "      <td>...</td>\n",
       "      <td>...</td>\n",
       "      <td>...</td>\n",
       "      <td>...</td>\n",
       "      <td>...</td>\n",
       "      <td>...</td>\n",
       "      <td>...</td>\n",
       "      <td>...</td>\n",
       "      <td>...</td>\n",
       "      <td>...</td>\n",
       "      <td>...</td>\n",
       "      <td>...</td>\n",
       "      <td>...</td>\n",
       "      <td>...</td>\n",
       "      <td>...</td>\n",
       "      <td>...</td>\n",
       "      <td>...</td>\n",
       "      <td>...</td>\n",
       "    </tr>\n",
       "    <tr>\n",
       "      <th>39995</th>\n",
       "      <td>264884</td>\n",
       "      <td>14</td>\n",
       "      <td>271.232434</td>\n",
       "      <td>1</td>\n",
       "      <td>4.0</td>\n",
       "      <td>12</td>\n",
       "      <td>270.233333</td>\n",
       "      <td>0.000000</td>\n",
       "      <td>0.007692</td>\n",
       "      <td>33.258525</td>\n",
       "      <td>0.0</td>\n",
       "      <td>10</td>\n",
       "      <td>4</td>\n",
       "      <td>1</td>\n",
       "      <td>3</td>\n",
       "      <td>5</td>\n",
       "      <td>New_Visitor</td>\n",
       "      <td>False</td>\n",
       "      <td>0</td>\n",
       "    </tr>\n",
       "    <tr>\n",
       "      <th>39996</th>\n",
       "      <td>238369</td>\n",
       "      <td>14</td>\n",
       "      <td>123.930000</td>\n",
       "      <td>5</td>\n",
       "      <td>38.6</td>\n",
       "      <td>160</td>\n",
       "      <td>6190.526028</td>\n",
       "      <td>0.000000</td>\n",
       "      <td>0.040557</td>\n",
       "      <td>0.000000</td>\n",
       "      <td>0.0</td>\n",
       "      <td>9</td>\n",
       "      <td>2</td>\n",
       "      <td>2</td>\n",
       "      <td>8</td>\n",
       "      <td>1</td>\n",
       "      <td>Returning_Visitor</td>\n",
       "      <td>False</td>\n",
       "      <td>0</td>\n",
       "    </tr>\n",
       "    <tr>\n",
       "      <th>39997</th>\n",
       "      <td>370016</td>\n",
       "      <td>0</td>\n",
       "      <td>0.000000</td>\n",
       "      <td>0</td>\n",
       "      <td>0.0</td>\n",
       "      <td>2</td>\n",
       "      <td>0.000000</td>\n",
       "      <td>0.200000</td>\n",
       "      <td>0.200000</td>\n",
       "      <td>0.000000</td>\n",
       "      <td>0.0</td>\n",
       "      <td>12</td>\n",
       "      <td>3</td>\n",
       "      <td>2</td>\n",
       "      <td>6</td>\n",
       "      <td>13</td>\n",
       "      <td>Returning_Visitor</td>\n",
       "      <td>False</td>\n",
       "      <td>0</td>\n",
       "    </tr>\n",
       "    <tr>\n",
       "      <th>39998</th>\n",
       "      <td>211469</td>\n",
       "      <td>0</td>\n",
       "      <td>0.000000</td>\n",
       "      <td>0</td>\n",
       "      <td>0.0</td>\n",
       "      <td>36</td>\n",
       "      <td>1193.625000</td>\n",
       "      <td>0.034617</td>\n",
       "      <td>0.069524</td>\n",
       "      <td>0.000000</td>\n",
       "      <td>0.2</td>\n",
       "      <td>5</td>\n",
       "      <td>1</td>\n",
       "      <td>1</td>\n",
       "      <td>1</td>\n",
       "      <td>4</td>\n",
       "      <td>Returning_Visitor</td>\n",
       "      <td>False</td>\n",
       "      <td>0</td>\n",
       "    </tr>\n",
       "    <tr>\n",
       "      <th>39999</th>\n",
       "      <td>314094</td>\n",
       "      <td>1</td>\n",
       "      <td>0.000000</td>\n",
       "      <td>0</td>\n",
       "      <td>0.0</td>\n",
       "      <td>30</td>\n",
       "      <td>529.000000</td>\n",
       "      <td>0.036314</td>\n",
       "      <td>0.056000</td>\n",
       "      <td>0.000000</td>\n",
       "      <td>0.4</td>\n",
       "      <td>5</td>\n",
       "      <td>2</td>\n",
       "      <td>2</td>\n",
       "      <td>1</td>\n",
       "      <td>13</td>\n",
       "      <td>Returning_Visitor</td>\n",
       "      <td>False</td>\n",
       "      <td>0</td>\n",
       "    </tr>\n",
       "  </tbody>\n",
       "</table>\n",
       "<p>40000 rows × 19 columns</p>\n",
       "</div>"
      ],
      "text/plain": [
       "       session_id  administrative  administrative_duration  informational  \\\n",
       "0          139957               2                47.500000              0   \n",
       "1          496587               0                 0.000000              0   \n",
       "2          440268               7               206.500000              1   \n",
       "3          294672               1                18.258571              0   \n",
       "4          497475               0                 0.000000              0   \n",
       "...           ...             ...                      ...            ...   \n",
       "39995      264884              14               271.232434              1   \n",
       "39996      238369              14               123.930000              5   \n",
       "39997      370016               0                 0.000000              0   \n",
       "39998      211469               0                 0.000000              0   \n",
       "39999      314094               1                 0.000000              0   \n",
       "\n",
       "       informational_duration  productrelated  productrelated_duration  \\\n",
       "0                         0.0              19              1203.480714   \n",
       "1                         0.0               7               152.000000   \n",
       "2                       389.9              95              4415.889952   \n",
       "3                         0.0             103              8305.048706   \n",
       "4                         0.0              42              1305.108333   \n",
       "...                       ...             ...                      ...   \n",
       "39995                     4.0              12               270.233333   \n",
       "39996                    38.6             160              6190.526028   \n",
       "39997                     0.0               2                 0.000000   \n",
       "39998                     0.0              36              1193.625000   \n",
       "39999                     0.0              30               529.000000   \n",
       "\n",
       "       bouncerates  exitrates  pagevalues  specialday  month operatingsystems  \\\n",
       "0         0.000000   0.027421    6.748509         0.0     11                2   \n",
       "1         0.000000   0.033333    0.000000         0.0     12                3   \n",
       "2         0.000133   0.033750    2.676062         0.0     11                2   \n",
       "3         0.004871   0.034746    6.824908         0.0     11                2   \n",
       "4         0.016068   0.039742    0.000000         0.0     12                3   \n",
       "...            ...        ...         ...         ...    ...              ...   \n",
       "39995     0.000000   0.007692   33.258525         0.0     10                4   \n",
       "39996     0.000000   0.040557    0.000000         0.0      9                2   \n",
       "39997     0.200000   0.200000    0.000000         0.0     12                3   \n",
       "39998     0.034617   0.069524    0.000000         0.2      5                1   \n",
       "39999     0.036314   0.056000    0.000000         0.4      5                2   \n",
       "\n",
       "      browser  region traffictype        visitortype  weekend  revenue  \n",
       "0           2       3           2  Returning_Visitor    False        0  \n",
       "1           2       6           3  Returning_Visitor    False        0  \n",
       "2           2       1          20  Returning_Visitor    False        0  \n",
       "3           2       1           2  Returning_Visitor     True        1  \n",
       "4           2       5           2  Returning_Visitor    False        0  \n",
       "...       ...     ...         ...                ...      ...      ...  \n",
       "39995       1       3           5        New_Visitor    False        0  \n",
       "39996       2       8           1  Returning_Visitor    False        0  \n",
       "39997       2       6          13  Returning_Visitor    False        0  \n",
       "39998       1       1           4  Returning_Visitor    False        0  \n",
       "39999       2       1          13  Returning_Visitor    False        0  \n",
       "\n",
       "[40000 rows x 19 columns]"
      ]
     },
     "execution_count": 14,
     "metadata": {},
     "output_type": "execute_result"
    }
   ],
   "source": [
    "train_data"
   ]
  },
  {
   "cell_type": "code",
   "execution_count": 15,
   "id": "2288043b",
   "metadata": {},
   "outputs": [],
   "source": [
    "from sklearn.preprocessing import LabelEncoder\n",
    "labelencoder=LabelEncoder()\n",
    "train_data['visitortype']=labelencoder.fit_transform(train_data['visitortype'])\n",
    "train_data['weekend']=labelencoder.fit_transform(train_data['weekend'])"
   ]
  },
  {
   "cell_type": "code",
   "execution_count": 16,
   "id": "c34451de",
   "metadata": {},
   "outputs": [
    {
     "data": {
      "text/html": [
       "<div>\n",
       "<style scoped>\n",
       "    .dataframe tbody tr th:only-of-type {\n",
       "        vertical-align: middle;\n",
       "    }\n",
       "\n",
       "    .dataframe tbody tr th {\n",
       "        vertical-align: top;\n",
       "    }\n",
       "\n",
       "    .dataframe thead th {\n",
       "        text-align: right;\n",
       "    }\n",
       "</style>\n",
       "<table border=\"1\" class=\"dataframe\">\n",
       "  <thead>\n",
       "    <tr style=\"text-align: right;\">\n",
       "      <th></th>\n",
       "      <th>session_id</th>\n",
       "      <th>administrative</th>\n",
       "      <th>administrative_duration</th>\n",
       "      <th>informational</th>\n",
       "      <th>informational_duration</th>\n",
       "      <th>productrelated</th>\n",
       "      <th>productrelated_duration</th>\n",
       "      <th>bouncerates</th>\n",
       "      <th>exitrates</th>\n",
       "      <th>pagevalues</th>\n",
       "      <th>specialday</th>\n",
       "      <th>month</th>\n",
       "      <th>operatingsystems</th>\n",
       "      <th>browser</th>\n",
       "      <th>region</th>\n",
       "      <th>traffictype</th>\n",
       "      <th>visitortype</th>\n",
       "      <th>weekend</th>\n",
       "      <th>revenue</th>\n",
       "    </tr>\n",
       "  </thead>\n",
       "  <tbody>\n",
       "    <tr>\n",
       "      <th>0</th>\n",
       "      <td>139957</td>\n",
       "      <td>2</td>\n",
       "      <td>47.500000</td>\n",
       "      <td>0</td>\n",
       "      <td>0.0</td>\n",
       "      <td>19</td>\n",
       "      <td>1203.480714</td>\n",
       "      <td>0.000000</td>\n",
       "      <td>0.027421</td>\n",
       "      <td>6.748509</td>\n",
       "      <td>0.0</td>\n",
       "      <td>11</td>\n",
       "      <td>2</td>\n",
       "      <td>2</td>\n",
       "      <td>3</td>\n",
       "      <td>2</td>\n",
       "      <td>2</td>\n",
       "      <td>0</td>\n",
       "      <td>0</td>\n",
       "    </tr>\n",
       "    <tr>\n",
       "      <th>1</th>\n",
       "      <td>496587</td>\n",
       "      <td>0</td>\n",
       "      <td>0.000000</td>\n",
       "      <td>0</td>\n",
       "      <td>0.0</td>\n",
       "      <td>7</td>\n",
       "      <td>152.000000</td>\n",
       "      <td>0.000000</td>\n",
       "      <td>0.033333</td>\n",
       "      <td>0.000000</td>\n",
       "      <td>0.0</td>\n",
       "      <td>12</td>\n",
       "      <td>3</td>\n",
       "      <td>2</td>\n",
       "      <td>6</td>\n",
       "      <td>3</td>\n",
       "      <td>2</td>\n",
       "      <td>0</td>\n",
       "      <td>0</td>\n",
       "    </tr>\n",
       "    <tr>\n",
       "      <th>2</th>\n",
       "      <td>440268</td>\n",
       "      <td>7</td>\n",
       "      <td>206.500000</td>\n",
       "      <td>1</td>\n",
       "      <td>389.9</td>\n",
       "      <td>95</td>\n",
       "      <td>4415.889952</td>\n",
       "      <td>0.000133</td>\n",
       "      <td>0.033750</td>\n",
       "      <td>2.676062</td>\n",
       "      <td>0.0</td>\n",
       "      <td>11</td>\n",
       "      <td>2</td>\n",
       "      <td>2</td>\n",
       "      <td>1</td>\n",
       "      <td>20</td>\n",
       "      <td>2</td>\n",
       "      <td>0</td>\n",
       "      <td>0</td>\n",
       "    </tr>\n",
       "    <tr>\n",
       "      <th>3</th>\n",
       "      <td>294672</td>\n",
       "      <td>1</td>\n",
       "      <td>18.258571</td>\n",
       "      <td>0</td>\n",
       "      <td>0.0</td>\n",
       "      <td>103</td>\n",
       "      <td>8305.048706</td>\n",
       "      <td>0.004871</td>\n",
       "      <td>0.034746</td>\n",
       "      <td>6.824908</td>\n",
       "      <td>0.0</td>\n",
       "      <td>11</td>\n",
       "      <td>2</td>\n",
       "      <td>2</td>\n",
       "      <td>1</td>\n",
       "      <td>2</td>\n",
       "      <td>2</td>\n",
       "      <td>1</td>\n",
       "      <td>1</td>\n",
       "    </tr>\n",
       "    <tr>\n",
       "      <th>4</th>\n",
       "      <td>497475</td>\n",
       "      <td>0</td>\n",
       "      <td>0.000000</td>\n",
       "      <td>0</td>\n",
       "      <td>0.0</td>\n",
       "      <td>42</td>\n",
       "      <td>1305.108333</td>\n",
       "      <td>0.016068</td>\n",
       "      <td>0.039742</td>\n",
       "      <td>0.000000</td>\n",
       "      <td>0.0</td>\n",
       "      <td>12</td>\n",
       "      <td>3</td>\n",
       "      <td>2</td>\n",
       "      <td>5</td>\n",
       "      <td>2</td>\n",
       "      <td>2</td>\n",
       "      <td>0</td>\n",
       "      <td>0</td>\n",
       "    </tr>\n",
       "    <tr>\n",
       "      <th>...</th>\n",
       "      <td>...</td>\n",
       "      <td>...</td>\n",
       "      <td>...</td>\n",
       "      <td>...</td>\n",
       "      <td>...</td>\n",
       "      <td>...</td>\n",
       "      <td>...</td>\n",
       "      <td>...</td>\n",
       "      <td>...</td>\n",
       "      <td>...</td>\n",
       "      <td>...</td>\n",
       "      <td>...</td>\n",
       "      <td>...</td>\n",
       "      <td>...</td>\n",
       "      <td>...</td>\n",
       "      <td>...</td>\n",
       "      <td>...</td>\n",
       "      <td>...</td>\n",
       "      <td>...</td>\n",
       "    </tr>\n",
       "    <tr>\n",
       "      <th>39995</th>\n",
       "      <td>264884</td>\n",
       "      <td>14</td>\n",
       "      <td>271.232434</td>\n",
       "      <td>1</td>\n",
       "      <td>4.0</td>\n",
       "      <td>12</td>\n",
       "      <td>270.233333</td>\n",
       "      <td>0.000000</td>\n",
       "      <td>0.007692</td>\n",
       "      <td>33.258525</td>\n",
       "      <td>0.0</td>\n",
       "      <td>10</td>\n",
       "      <td>4</td>\n",
       "      <td>1</td>\n",
       "      <td>3</td>\n",
       "      <td>5</td>\n",
       "      <td>0</td>\n",
       "      <td>0</td>\n",
       "      <td>0</td>\n",
       "    </tr>\n",
       "    <tr>\n",
       "      <th>39996</th>\n",
       "      <td>238369</td>\n",
       "      <td>14</td>\n",
       "      <td>123.930000</td>\n",
       "      <td>5</td>\n",
       "      <td>38.6</td>\n",
       "      <td>160</td>\n",
       "      <td>6190.526028</td>\n",
       "      <td>0.000000</td>\n",
       "      <td>0.040557</td>\n",
       "      <td>0.000000</td>\n",
       "      <td>0.0</td>\n",
       "      <td>9</td>\n",
       "      <td>2</td>\n",
       "      <td>2</td>\n",
       "      <td>8</td>\n",
       "      <td>1</td>\n",
       "      <td>2</td>\n",
       "      <td>0</td>\n",
       "      <td>0</td>\n",
       "    </tr>\n",
       "    <tr>\n",
       "      <th>39997</th>\n",
       "      <td>370016</td>\n",
       "      <td>0</td>\n",
       "      <td>0.000000</td>\n",
       "      <td>0</td>\n",
       "      <td>0.0</td>\n",
       "      <td>2</td>\n",
       "      <td>0.000000</td>\n",
       "      <td>0.200000</td>\n",
       "      <td>0.200000</td>\n",
       "      <td>0.000000</td>\n",
       "      <td>0.0</td>\n",
       "      <td>12</td>\n",
       "      <td>3</td>\n",
       "      <td>2</td>\n",
       "      <td>6</td>\n",
       "      <td>13</td>\n",
       "      <td>2</td>\n",
       "      <td>0</td>\n",
       "      <td>0</td>\n",
       "    </tr>\n",
       "    <tr>\n",
       "      <th>39998</th>\n",
       "      <td>211469</td>\n",
       "      <td>0</td>\n",
       "      <td>0.000000</td>\n",
       "      <td>0</td>\n",
       "      <td>0.0</td>\n",
       "      <td>36</td>\n",
       "      <td>1193.625000</td>\n",
       "      <td>0.034617</td>\n",
       "      <td>0.069524</td>\n",
       "      <td>0.000000</td>\n",
       "      <td>0.2</td>\n",
       "      <td>5</td>\n",
       "      <td>1</td>\n",
       "      <td>1</td>\n",
       "      <td>1</td>\n",
       "      <td>4</td>\n",
       "      <td>2</td>\n",
       "      <td>0</td>\n",
       "      <td>0</td>\n",
       "    </tr>\n",
       "    <tr>\n",
       "      <th>39999</th>\n",
       "      <td>314094</td>\n",
       "      <td>1</td>\n",
       "      <td>0.000000</td>\n",
       "      <td>0</td>\n",
       "      <td>0.0</td>\n",
       "      <td>30</td>\n",
       "      <td>529.000000</td>\n",
       "      <td>0.036314</td>\n",
       "      <td>0.056000</td>\n",
       "      <td>0.000000</td>\n",
       "      <td>0.4</td>\n",
       "      <td>5</td>\n",
       "      <td>2</td>\n",
       "      <td>2</td>\n",
       "      <td>1</td>\n",
       "      <td>13</td>\n",
       "      <td>2</td>\n",
       "      <td>0</td>\n",
       "      <td>0</td>\n",
       "    </tr>\n",
       "  </tbody>\n",
       "</table>\n",
       "<p>40000 rows × 19 columns</p>\n",
       "</div>"
      ],
      "text/plain": [
       "       session_id  administrative  administrative_duration  informational  \\\n",
       "0          139957               2                47.500000              0   \n",
       "1          496587               0                 0.000000              0   \n",
       "2          440268               7               206.500000              1   \n",
       "3          294672               1                18.258571              0   \n",
       "4          497475               0                 0.000000              0   \n",
       "...           ...             ...                      ...            ...   \n",
       "39995      264884              14               271.232434              1   \n",
       "39996      238369              14               123.930000              5   \n",
       "39997      370016               0                 0.000000              0   \n",
       "39998      211469               0                 0.000000              0   \n",
       "39999      314094               1                 0.000000              0   \n",
       "\n",
       "       informational_duration  productrelated  productrelated_duration  \\\n",
       "0                         0.0              19              1203.480714   \n",
       "1                         0.0               7               152.000000   \n",
       "2                       389.9              95              4415.889952   \n",
       "3                         0.0             103              8305.048706   \n",
       "4                         0.0              42              1305.108333   \n",
       "...                       ...             ...                      ...   \n",
       "39995                     4.0              12               270.233333   \n",
       "39996                    38.6             160              6190.526028   \n",
       "39997                     0.0               2                 0.000000   \n",
       "39998                     0.0              36              1193.625000   \n",
       "39999                     0.0              30               529.000000   \n",
       "\n",
       "       bouncerates  exitrates  pagevalues  specialday  month operatingsystems  \\\n",
       "0         0.000000   0.027421    6.748509         0.0     11                2   \n",
       "1         0.000000   0.033333    0.000000         0.0     12                3   \n",
       "2         0.000133   0.033750    2.676062         0.0     11                2   \n",
       "3         0.004871   0.034746    6.824908         0.0     11                2   \n",
       "4         0.016068   0.039742    0.000000         0.0     12                3   \n",
       "...            ...        ...         ...         ...    ...              ...   \n",
       "39995     0.000000   0.007692   33.258525         0.0     10                4   \n",
       "39996     0.000000   0.040557    0.000000         0.0      9                2   \n",
       "39997     0.200000   0.200000    0.000000         0.0     12                3   \n",
       "39998     0.034617   0.069524    0.000000         0.2      5                1   \n",
       "39999     0.036314   0.056000    0.000000         0.4      5                2   \n",
       "\n",
       "      browser  region traffictype  visitortype  weekend  revenue  \n",
       "0           2       3           2            2        0        0  \n",
       "1           2       6           3            2        0        0  \n",
       "2           2       1          20            2        0        0  \n",
       "3           2       1           2            2        1        1  \n",
       "4           2       5           2            2        0        0  \n",
       "...       ...     ...         ...          ...      ...      ...  \n",
       "39995       1       3           5            0        0        0  \n",
       "39996       2       8           1            2        0        0  \n",
       "39997       2       6          13            2        0        0  \n",
       "39998       1       1           4            2        0        0  \n",
       "39999       2       1          13            2        0        0  \n",
       "\n",
       "[40000 rows x 19 columns]"
      ]
     },
     "execution_count": 16,
     "metadata": {},
     "output_type": "execute_result"
    }
   ],
   "source": [
    "train_data"
   ]
  },
  {
   "cell_type": "code",
   "execution_count": 17,
   "id": "39e1d285",
   "metadata": {},
   "outputs": [
    {
     "data": {
      "text/plain": [
       "False"
      ]
     },
     "execution_count": 17,
     "metadata": {},
     "output_type": "execute_result"
    }
   ],
   "source": [
    "train_data.isnull().values.any()"
   ]
  },
  {
   "cell_type": "code",
   "execution_count": 18,
   "id": "c78fe341",
   "metadata": {},
   "outputs": [
    {
     "ename": "NameError",
     "evalue": "name 'LABELS' is not defined",
     "output_type": "error",
     "traceback": [
      "\u001b[1;31m---------------------------------------------------------------------------\u001b[0m",
      "\u001b[1;31mNameError\u001b[0m                                 Traceback (most recent call last)",
      "\u001b[1;32m~\\AppData\\Local\\Temp\\ipykernel_2340\\1739096139.py\u001b[0m in \u001b[0;36m<module>\u001b[1;34m\u001b[0m\n\u001b[0;32m      5\u001b[0m \u001b[0mplt\u001b[0m\u001b[1;33m.\u001b[0m\u001b[0mtitle\u001b[0m\u001b[1;33m(\u001b[0m\u001b[1;34m\"Transaction Class Distribution\"\u001b[0m\u001b[1;33m)\u001b[0m\u001b[1;33m\u001b[0m\u001b[1;33m\u001b[0m\u001b[0m\n\u001b[0;32m      6\u001b[0m \u001b[1;33m\u001b[0m\u001b[0m\n\u001b[1;32m----> 7\u001b[1;33m \u001b[0mplt\u001b[0m\u001b[1;33m.\u001b[0m\u001b[0mxticks\u001b[0m\u001b[1;33m(\u001b[0m\u001b[0mrange\u001b[0m\u001b[1;33m(\u001b[0m\u001b[1;36m2\u001b[0m\u001b[1;33m)\u001b[0m\u001b[1;33m,\u001b[0m \u001b[0mLABELS\u001b[0m\u001b[1;33m)\u001b[0m\u001b[1;33m\u001b[0m\u001b[1;33m\u001b[0m\u001b[0m\n\u001b[0m\u001b[0;32m      8\u001b[0m \u001b[1;33m\u001b[0m\u001b[0m\n\u001b[0;32m      9\u001b[0m \u001b[0mplt\u001b[0m\u001b[1;33m.\u001b[0m\u001b[0mxlabel\u001b[0m\u001b[1;33m(\u001b[0m\u001b[1;34m\"Class\"\u001b[0m\u001b[1;33m)\u001b[0m\u001b[1;33m\u001b[0m\u001b[1;33m\u001b[0m\u001b[0m\n",
      "\u001b[1;31mNameError\u001b[0m: name 'LABELS' is not defined"
     ]
    },
    {
     "data": {
      "image/png": "[encoded data removed]",
      "text/plain": [
       "<Figure size 640x480 with 1 Axes>"
      ]
     },
     "metadata": {},
     "output_type": "display_data"
    }
   ],
   "source": [
    "count_classes = pd.value_counts(train_data['revenue'], sort = True)\n",
    "\n",
    "count_classes.plot(kind = 'bar', rot=0)\n",
    "\n",
    "plt.title(\"Transaction Class Distribution\")\n",
    "\n",
    "plt.xticks(range(2), LABELS)\n",
    "\n",
    "plt.xlabel(\"Class\")\n",
    "\n",
    "plt.ylabel(\"Frequency\")"
   ]
  },
  {
   "cell_type": "code",
   "execution_count": 21,
   "id": "4a2bd8b6",
   "metadata": {},
   "outputs": [],
   "source": [
    "train_data['month']=train_data['month'].astype(int)\n",
    "train_data['operatingsystems']=train_data['operatingsystems'].astype(int)\n",
    "train_data['browser']=train_data['browser'].astype(int)\n",
    "train_data['traffictype']=train_data['traffictype'].astype(int)"
   ]
  },
  {
   "cell_type": "code",
   "execution_count": 22,
   "id": "7fce5c5c",
   "metadata": {},
   "outputs": [
    {
     "name": "stdout",
     "output_type": "stream",
     "text": [
      "<class 'pandas.core.frame.DataFrame'>\n",
      "RangeIndex: 40000 entries, 0 to 39999\n",
      "Data columns (total 19 columns):\n",
      " #   Column                   Non-Null Count  Dtype  \n",
      "---  ------                   --------------  -----  \n",
      " 0   session_id               40000 non-null  int64  \n",
      " 1   administrative           40000 non-null  int64  \n",
      " 2   administrative_duration  40000 non-null  float64\n",
      " 3   informational            40000 non-null  int64  \n",
      " 4   informational_duration   40000 non-null  float64\n",
      " 5   productrelated           40000 non-null  int64  \n",
      " 6   productrelated_duration  40000 non-null  float64\n",
      " 7   bouncerates              40000 non-null  float64\n",
      " 8   exitrates                40000 non-null  float64\n",
      " 9   pagevalues               40000 non-null  float64\n",
      " 10  specialday               40000 non-null  float64\n",
      " 11  month                    40000 non-null  int32  \n",
      " 12  operatingsystems         40000 non-null  int32  \n",
      " 13  browser                  40000 non-null  int32  \n",
      " 14  region                   40000 non-null  int64  \n",
      " 15  traffictype              40000 non-null  int32  \n",
      " 16  visitortype              40000 non-null  int32  \n",
      " 17  weekend                  40000 non-null  int64  \n",
      " 18  revenue                  40000 non-null  int64  \n",
      "dtypes: float64(7), int32(5), int64(7)\n",
      "memory usage: 5.0 MB\n"
     ]
    }
   ],
   "source": [
    "train_data.info()"
   ]
  },
  {
   "cell_type": "code",
   "execution_count": 23,
   "id": "9740962b",
   "metadata": {},
   "outputs": [],
   "source": [
    "X_train = train_data.drop(\"revenue\",axis=1)\n",
    "y_train = train_data[\"revenue\"]"
   ]
  },
  {
   "cell_type": "code",
   "execution_count": 24,
   "id": "f7eba65b",
   "metadata": {},
   "outputs": [
    {
     "data": {
      "text/html": [
       "<div>\n",
       "<style scoped>\n",
       "    .dataframe tbody tr th:only-of-type {\n",
       "        vertical-align: middle;\n",
       "    }\n",
       "\n",
       "    .dataframe tbody tr th {\n",
       "        vertical-align: top;\n",
       "    }\n",
       "\n",
       "    .dataframe thead th {\n",
       "        text-align: right;\n",
       "    }\n",
       "</style>\n",
       "<table border=\"1\" class=\"dataframe\">\n",
       "  <thead>\n",
       "    <tr style=\"text-align: right;\">\n",
       "      <th></th>\n",
       "      <th>session_id</th>\n",
       "      <th>administrative</th>\n",
       "      <th>administrative_duration</th>\n",
       "      <th>informational</th>\n",
       "      <th>informational_duration</th>\n",
       "      <th>productrelated</th>\n",
       "      <th>productrelated_duration</th>\n",
       "      <th>bouncerates</th>\n",
       "      <th>exitrates</th>\n",
       "      <th>pagevalues</th>\n",
       "      <th>specialday</th>\n",
       "      <th>month</th>\n",
       "      <th>operatingsystems</th>\n",
       "      <th>browser</th>\n",
       "      <th>region</th>\n",
       "      <th>traffictype</th>\n",
       "      <th>visitortype</th>\n",
       "      <th>weekend</th>\n",
       "    </tr>\n",
       "  </thead>\n",
       "  <tbody>\n",
       "    <tr>\n",
       "      <th>0</th>\n",
       "      <td>139957</td>\n",
       "      <td>2</td>\n",
       "      <td>47.500000</td>\n",
       "      <td>0</td>\n",
       "      <td>0.0</td>\n",
       "      <td>19</td>\n",
       "      <td>1203.480714</td>\n",
       "      <td>0.000000</td>\n",
       "      <td>0.027421</td>\n",
       "      <td>6.748509</td>\n",
       "      <td>0.0</td>\n",
       "      <td>11</td>\n",
       "      <td>2</td>\n",
       "      <td>2</td>\n",
       "      <td>3</td>\n",
       "      <td>2</td>\n",
       "      <td>2</td>\n",
       "      <td>0</td>\n",
       "    </tr>\n",
       "    <tr>\n",
       "      <th>1</th>\n",
       "      <td>496587</td>\n",
       "      <td>0</td>\n",
       "      <td>0.000000</td>\n",
       "      <td>0</td>\n",
       "      <td>0.0</td>\n",
       "      <td>7</td>\n",
       "      <td>152.000000</td>\n",
       "      <td>0.000000</td>\n",
       "      <td>0.033333</td>\n",
       "      <td>0.000000</td>\n",
       "      <td>0.0</td>\n",
       "      <td>12</td>\n",
       "      <td>3</td>\n",
       "      <td>2</td>\n",
       "      <td>6</td>\n",
       "      <td>3</td>\n",
       "      <td>2</td>\n",
       "      <td>0</td>\n",
       "    </tr>\n",
       "    <tr>\n",
       "      <th>2</th>\n",
       "      <td>440268</td>\n",
       "      <td>7</td>\n",
       "      <td>206.500000</td>\n",
       "      <td>1</td>\n",
       "      <td>389.9</td>\n",
       "      <td>95</td>\n",
       "      <td>4415.889952</td>\n",
       "      <td>0.000133</td>\n",
       "      <td>0.033750</td>\n",
       "      <td>2.676062</td>\n",
       "      <td>0.0</td>\n",
       "      <td>11</td>\n",
       "      <td>2</td>\n",
       "      <td>2</td>\n",
       "      <td>1</td>\n",
       "      <td>20</td>\n",
       "      <td>2</td>\n",
       "      <td>0</td>\n",
       "    </tr>\n",
       "    <tr>\n",
       "      <th>3</th>\n",
       "      <td>294672</td>\n",
       "      <td>1</td>\n",
       "      <td>18.258571</td>\n",
       "      <td>0</td>\n",
       "      <td>0.0</td>\n",
       "      <td>103</td>\n",
       "      <td>8305.048706</td>\n",
       "      <td>0.004871</td>\n",
       "      <td>0.034746</td>\n",
       "      <td>6.824908</td>\n",
       "      <td>0.0</td>\n",
       "      <td>11</td>\n",
       "      <td>2</td>\n",
       "      <td>2</td>\n",
       "      <td>1</td>\n",
       "      <td>2</td>\n",
       "      <td>2</td>\n",
       "      <td>1</td>\n",
       "    </tr>\n",
       "    <tr>\n",
       "      <th>4</th>\n",
       "      <td>497475</td>\n",
       "      <td>0</td>\n",
       "      <td>0.000000</td>\n",
       "      <td>0</td>\n",
       "      <td>0.0</td>\n",
       "      <td>42</td>\n",
       "      <td>1305.108333</td>\n",
       "      <td>0.016068</td>\n",
       "      <td>0.039742</td>\n",
       "      <td>0.000000</td>\n",
       "      <td>0.0</td>\n",
       "      <td>12</td>\n",
       "      <td>3</td>\n",
       "      <td>2</td>\n",
       "      <td>5</td>\n",
       "      <td>2</td>\n",
       "      <td>2</td>\n",
       "      <td>0</td>\n",
       "    </tr>\n",
       "    <tr>\n",
       "      <th>...</th>\n",
       "      <td>...</td>\n",
       "      <td>...</td>\n",
       "      <td>...</td>\n",
       "      <td>...</td>\n",
       "      <td>...</td>\n",
       "      <td>...</td>\n",
       "      <td>...</td>\n",
       "      <td>...</td>\n",
       "      <td>...</td>\n",
       "      <td>...</td>\n",
       "      <td>...</td>\n",
       "      <td>...</td>\n",
       "      <td>...</td>\n",
       "      <td>...</td>\n",
       "      <td>...</td>\n",
       "      <td>...</td>\n",
       "      <td>...</td>\n",
       "      <td>...</td>\n",
       "    </tr>\n",
       "    <tr>\n",
       "      <th>39995</th>\n",
       "      <td>264884</td>\n",
       "      <td>14</td>\n",
       "      <td>271.232434</td>\n",
       "      <td>1</td>\n",
       "      <td>4.0</td>\n",
       "      <td>12</td>\n",
       "      <td>270.233333</td>\n",
       "      <td>0.000000</td>\n",
       "      <td>0.007692</td>\n",
       "      <td>33.258525</td>\n",
       "      <td>0.0</td>\n",
       "      <td>10</td>\n",
       "      <td>4</td>\n",
       "      <td>1</td>\n",
       "      <td>3</td>\n",
       "      <td>5</td>\n",
       "      <td>0</td>\n",
       "      <td>0</td>\n",
       "    </tr>\n",
       "    <tr>\n",
       "      <th>39996</th>\n",
       "      <td>238369</td>\n",
       "      <td>14</td>\n",
       "      <td>123.930000</td>\n",
       "      <td>5</td>\n",
       "      <td>38.6</td>\n",
       "      <td>160</td>\n",
       "      <td>6190.526028</td>\n",
       "      <td>0.000000</td>\n",
       "      <td>0.040557</td>\n",
       "      <td>0.000000</td>\n",
       "      <td>0.0</td>\n",
       "      <td>9</td>\n",
       "      <td>2</td>\n",
       "      <td>2</td>\n",
       "      <td>8</td>\n",
       "      <td>1</td>\n",
       "      <td>2</td>\n",
       "      <td>0</td>\n",
       "    </tr>\n",
       "    <tr>\n",
       "      <th>39997</th>\n",
       "      <td>370016</td>\n",
       "      <td>0</td>\n",
       "      <td>0.000000</td>\n",
       "      <td>0</td>\n",
       "      <td>0.0</td>\n",
       "      <td>2</td>\n",
       "      <td>0.000000</td>\n",
       "      <td>0.200000</td>\n",
       "      <td>0.200000</td>\n",
       "      <td>0.000000</td>\n",
       "      <td>0.0</td>\n",
       "      <td>12</td>\n",
       "      <td>3</td>\n",
       "      <td>2</td>\n",
       "      <td>6</td>\n",
       "      <td>13</td>\n",
       "      <td>2</td>\n",
       "      <td>0</td>\n",
       "    </tr>\n",
       "    <tr>\n",
       "      <th>39998</th>\n",
       "      <td>211469</td>\n",
       "      <td>0</td>\n",
       "      <td>0.000000</td>\n",
       "      <td>0</td>\n",
       "      <td>0.0</td>\n",
       "      <td>36</td>\n",
       "      <td>1193.625000</td>\n",
       "      <td>0.034617</td>\n",
       "      <td>0.069524</td>\n",
       "      <td>0.000000</td>\n",
       "      <td>0.2</td>\n",
       "      <td>5</td>\n",
       "      <td>1</td>\n",
       "      <td>1</td>\n",
       "      <td>1</td>\n",
       "      <td>4</td>\n",
       "      <td>2</td>\n",
       "      <td>0</td>\n",
       "    </tr>\n",
       "    <tr>\n",
       "      <th>39999</th>\n",
       "      <td>314094</td>\n",
       "      <td>1</td>\n",
       "      <td>0.000000</td>\n",
       "      <td>0</td>\n",
       "      <td>0.0</td>\n",
       "      <td>30</td>\n",
       "      <td>529.000000</td>\n",
       "      <td>0.036314</td>\n",
       "      <td>0.056000</td>\n",
       "      <td>0.000000</td>\n",
       "      <td>0.4</td>\n",
       "      <td>5</td>\n",
       "      <td>2</td>\n",
       "      <td>2</td>\n",
       "      <td>1</td>\n",
       "      <td>13</td>\n",
       "      <td>2</td>\n",
       "      <td>0</td>\n",
       "    </tr>\n",
       "  </tbody>\n",
       "</table>\n",
       "<p>40000 rows × 18 columns</p>\n",
       "</div>"
      ],
      "text/plain": [
       "       session_id  administrative  administrative_duration  informational  \\\n",
       "0          139957               2                47.500000              0   \n",
       "1          496587               0                 0.000000              0   \n",
       "2          440268               7               206.500000              1   \n",
       "3          294672               1                18.258571              0   \n",
       "4          497475               0                 0.000000              0   \n",
       "...           ...             ...                      ...            ...   \n",
       "39995      264884              14               271.232434              1   \n",
       "39996      238369              14               123.930000              5   \n",
       "39997      370016               0                 0.000000              0   \n",
       "39998      211469               0                 0.000000              0   \n",
       "39999      314094               1                 0.000000              0   \n",
       "\n",
       "       informational_duration  productrelated  productrelated_duration  \\\n",
       "0                         0.0              19              1203.480714   \n",
       "1                         0.0               7               152.000000   \n",
       "2                       389.9              95              4415.889952   \n",
       "3                         0.0             103              8305.048706   \n",
       "4                         0.0              42              1305.108333   \n",
       "...                       ...             ...                      ...   \n",
       "39995                     4.0              12               270.233333   \n",
       "39996                    38.6             160              6190.526028   \n",
       "39997                     0.0               2                 0.000000   \n",
       "39998                     0.0              36              1193.625000   \n",
       "39999                     0.0              30               529.000000   \n",
       "\n",
       "       bouncerates  exitrates  pagevalues  specialday  month  \\\n",
       "0         0.000000   0.027421    6.748509         0.0     11   \n",
       "1         0.000000   0.033333    0.000000         0.0     12   \n",
       "2         0.000133   0.033750    2.676062         0.0     11   \n",
       "3         0.004871   0.034746    6.824908         0.0     11   \n",
       "4         0.016068   0.039742    0.000000         0.0     12   \n",
       "...            ...        ...         ...         ...    ...   \n",
       "39995     0.000000   0.007692   33.258525         0.0     10   \n",
       "39996     0.000000   0.040557    0.000000         0.0      9   \n",
       "39997     0.200000   0.200000    0.000000         0.0     12   \n",
       "39998     0.034617   0.069524    0.000000         0.2      5   \n",
       "39999     0.036314   0.056000    0.000000         0.4      5   \n",
       "\n",
       "       operatingsystems  browser  region  traffictype  visitortype  weekend  \n",
       "0                     2        2       3            2            2        0  \n",
       "1                     3        2       6            3            2        0  \n",
       "2                     2        2       1           20            2        0  \n",
       "3                     2        2       1            2            2        1  \n",
       "4                     3        2       5            2            2        0  \n",
       "...                 ...      ...     ...          ...          ...      ...  \n",
       "39995                 4        1       3            5            0        0  \n",
       "39996                 2        2       8            1            2        0  \n",
       "39997                 3        2       6           13            2        0  \n",
       "39998                 1        1       1            4            2        0  \n",
       "39999                 2        2       1           13            2        0  \n",
       "\n",
       "[40000 rows x 18 columns]"
      ]
     },
     "execution_count": 24,
     "metadata": {},
     "output_type": "execute_result"
    }
   ],
   "source": [
    "X_train "
   ]
  },
  {
   "cell_type": "code",
   "execution_count": 25,
   "id": "171abc69",
   "metadata": {},
   "outputs": [
    {
     "data": {
      "text/plain": [
       "0        0\n",
       "1        0\n",
       "2        0\n",
       "3        1\n",
       "4        0\n",
       "        ..\n",
       "39995    0\n",
       "39996    0\n",
       "39997    0\n",
       "39998    0\n",
       "39999    0\n",
       "Name: revenue, Length: 40000, dtype: int64"
      ]
     },
     "execution_count": 25,
     "metadata": {},
     "output_type": "execute_result"
    }
   ],
   "source": [
    "y_train"
   ]
  },
  {
   "cell_type": "markdown",
   "id": "7cf4d3a1",
   "metadata": {},
   "source": [
    "# TEST DATA"
   ]
  },
  {
   "cell_type": "code",
   "execution_count": 26,
   "id": "2957c1a7",
   "metadata": {},
   "outputs": [],
   "source": [
    "test_data = pd.read_csv(\"ecommerce_test.csv\")"
   ]
  },
  {
   "cell_type": "code",
   "execution_count": 27,
   "id": "b040521e",
   "metadata": {},
   "outputs": [
    {
     "name": "stdout",
     "output_type": "stream",
     "text": [
      "<class 'pandas.core.frame.DataFrame'>\n",
      "RangeIndex: 10000 entries, 0 to 9999\n",
      "Data columns (total 18 columns):\n",
      " #   Column                   Non-Null Count  Dtype  \n",
      "---  ------                   --------------  -----  \n",
      " 0   session_id               10000 non-null  int64  \n",
      " 1   administrative           10000 non-null  int64  \n",
      " 2   administrative_duration  10000 non-null  float64\n",
      " 3   informational            10000 non-null  int64  \n",
      " 4   informational_duration   10000 non-null  float64\n",
      " 5   productrelated           10000 non-null  int64  \n",
      " 6   productrelated_duration  10000 non-null  float64\n",
      " 7   bouncerates              10000 non-null  float64\n",
      " 8   exitrates                10000 non-null  float64\n",
      " 9   pagevalues               10000 non-null  float64\n",
      " 10  specialday               10000 non-null  float64\n",
      " 11  month                    10000 non-null  object \n",
      " 12  operatingsystems         10000 non-null  object \n",
      " 13  browser                  10000 non-null  object \n",
      " 14  region                   10000 non-null  int64  \n",
      " 15  traffictype              10000 non-null  object \n",
      " 16  visitortype              10000 non-null  object \n",
      " 17  weekend                  10000 non-null  bool   \n",
      "dtypes: bool(1), float64(7), int64(5), object(5)\n",
      "memory usage: 1.3+ MB\n"
     ]
    }
   ],
   "source": [
    "test_data.info()"
   ]
  },
  {
   "cell_type": "code",
   "execution_count": 28,
   "id": "51b58e37",
   "metadata": {},
   "outputs": [
    {
     "data": {
      "text/plain": [
       "session_id                 0\n",
       "administrative             0\n",
       "administrative_duration    0\n",
       "informational              0\n",
       "informational_duration     0\n",
       "productrelated             0\n",
       "productrelated_duration    0\n",
       "bouncerates                0\n",
       "exitrates                  0\n",
       "pagevalues                 0\n",
       "specialday                 0\n",
       "month                      0\n",
       "operatingsystems           0\n",
       "browser                    0\n",
       "region                     0\n",
       "traffictype                0\n",
       "visitortype                0\n",
       "weekend                    0\n",
       "dtype: int64"
      ]
     },
     "execution_count": 28,
     "metadata": {},
     "output_type": "execute_result"
    }
   ],
   "source": [
    "test_data.isna().sum()"
   ]
  },
  {
   "cell_type": "code",
   "execution_count": 29,
   "id": "2b609680",
   "metadata": {},
   "outputs": [
    {
     "name": "stdout",
     "output_type": "stream",
     "text": [
      "month: \n",
      " ['Nov' 'Mar' 'Dec' 'Feb' 'May' 'Jul' 'June' 'Oct' 'Aug' 'Sep']\n",
      "\n",
      "operatingsystems: \n",
      " ['1' '2' '3' '4' '*' '8']\n",
      "\n",
      "browser: \n",
      " ['2' '5' '4' '1' '3' '8' '6' '10' '7' '*' '13']\n",
      "\n",
      "traffictype: \n",
      " ['2' '8' '1' '11' '3' '13' '10' '4' '9' '5' '6' '20' '7' '15' '*']\n",
      "\n",
      "visitortype: \n",
      " ['New_Visitor' 'Returning_Visitor' 'Other']\n",
      "\n"
     ]
    }
   ],
   "source": [
    "for i in test_data.columns:\n",
    "    if test_data[i].dtype == type(object):\n",
    "        print(i,end=': ')\n",
    "        print('\\n',test_data[i].unique())\n",
    "        print()"
   ]
  },
  {
   "cell_type": "code",
   "execution_count": 30,
   "id": "e7865e70",
   "metadata": {},
   "outputs": [],
   "source": [
    "#train\n",
    "operating_mode = test_data[\"operatingsystems\"].mode()[0]\n",
    "browser_Mode = test_data[\"browser\"].mode()[0]\n",
    "traffictype_Mode = test_data[\"traffictype\"].mode()[0]"
   ]
  },
  {
   "cell_type": "code",
   "execution_count": 31,
   "id": "3375a94e",
   "metadata": {},
   "outputs": [],
   "source": [
    "test_data =test_data.replace('*', np.nan)"
   ]
  },
  {
   "cell_type": "code",
   "execution_count": 32,
   "id": "aedd7db3",
   "metadata": {},
   "outputs": [
    {
     "name": "stdout",
     "output_type": "stream",
     "text": [
      "month: \n",
      " ['Nov' 'Mar' 'Dec' 'Feb' 'May' 'Jul' 'June' 'Oct' 'Aug' 'Sep']\n",
      "\n",
      "operatingsystems: \n",
      " ['1' '2' '3' '4' nan '8']\n",
      "\n",
      "browser: \n",
      " ['2' '5' '4' '1' '3' '8' '6' '10' '7' nan '13']\n",
      "\n",
      "traffictype: \n",
      " ['2' '8' '1' '11' '3' '13' '10' '4' '9' '5' '6' '20' '7' '15' nan]\n",
      "\n",
      "visitortype: \n",
      " ['New_Visitor' 'Returning_Visitor' 'Other']\n",
      "\n"
     ]
    }
   ],
   "source": [
    "#Checking for unique values in categorical columns after * replacement\n",
    "for i in test_data.columns:\n",
    "    if test_data[i].dtype == type(object):\n",
    "        print(i,end=': ')\n",
    "        print('\\n',test_data[i].unique())\n",
    "        print()"
   ]
  },
  {
   "cell_type": "code",
   "execution_count": 33,
   "id": "8507896a",
   "metadata": {},
   "outputs": [],
   "source": [
    "#### fill the mode to the na value\n",
    "test_data[\"operatingsystems\"] = test_data[\"operatingsystems\"].fillna(operating_mode)\n",
    "test_data[\"browser\"] = test_data[\"browser\"].fillna(browser_Mode)\n",
    "test_data[\"traffictype\"] = test_data[\"traffictype\"].fillna(traffictype_Mode)"
   ]
  },
  {
   "cell_type": "code",
   "execution_count": 34,
   "id": "ed260446",
   "metadata": {},
   "outputs": [],
   "source": [
    "#Checking the distribution of target variable in terms of percentage\n",
    "#test_data['revenue'].value_counts(normalize=True)"
   ]
  },
  {
   "cell_type": "code",
   "execution_count": 35,
   "id": "1f1b1ebf",
   "metadata": {},
   "outputs": [
    {
     "data": {
      "text/plain": [
       "array(['Nov', 'Mar', 'Dec', 'Feb', 'May', 'Jul', 'June', 'Oct', 'Aug',\n",
       "       'Sep'], dtype=object)"
      ]
     },
     "execution_count": 35,
     "metadata": {},
     "output_type": "execute_result"
    }
   ],
   "source": [
    "test_data['month'].unique()"
   ]
  },
  {
   "cell_type": "code",
   "execution_count": 36,
   "id": "6e177752",
   "metadata": {},
   "outputs": [],
   "source": [
    "test_data['month']=test_data['month'].map({'Nov':11, 'Dec':12, 'May':5, 'June':6, 'Mar':3, 'Sep':9, 'Aug':8, 'Oct':10, 'Jul':7,'Feb':2})"
   ]
  },
  {
   "cell_type": "code",
   "execution_count": 37,
   "id": "0c03e8f2",
   "metadata": {},
   "outputs": [],
   "source": [
    "from sklearn.preprocessing import LabelEncoder\n",
    "labelencoder=LabelEncoder()\n",
    "test_data['visitortype']=labelencoder.fit_transform(test_data['visitortype'])\n",
    "test_data['weekend']=labelencoder.fit_transform(test_data['weekend'])"
   ]
  },
  {
   "cell_type": "code",
   "execution_count": 38,
   "id": "60aa2f91",
   "metadata": {},
   "outputs": [],
   "source": [
    "test_data['month']=test_data['month'].astype(int)\n",
    "test_data['operatingsystems']=test_data['operatingsystems'].astype(int)\n",
    "test_data['browser']=test_data['browser'].astype(int)\n",
    "test_data['traffictype']=test_data['traffictype'].astype(int)"
   ]
  },
  {
   "cell_type": "code",
   "execution_count": 39,
   "id": "f0f656d6",
   "metadata": {},
   "outputs": [
    {
     "name": "stdout",
     "output_type": "stream",
     "text": [
      "<class 'pandas.core.frame.DataFrame'>\n",
      "RangeIndex: 10000 entries, 0 to 9999\n",
      "Data columns (total 18 columns):\n",
      " #   Column                   Non-Null Count  Dtype  \n",
      "---  ------                   --------------  -----  \n",
      " 0   session_id               10000 non-null  int64  \n",
      " 1   administrative           10000 non-null  int64  \n",
      " 2   administrative_duration  10000 non-null  float64\n",
      " 3   informational            10000 non-null  int64  \n",
      " 4   informational_duration   10000 non-null  float64\n",
      " 5   productrelated           10000 non-null  int64  \n",
      " 6   productrelated_duration  10000 non-null  float64\n",
      " 7   bouncerates              10000 non-null  float64\n",
      " 8   exitrates                10000 non-null  float64\n",
      " 9   pagevalues               10000 non-null  float64\n",
      " 10  specialday               10000 non-null  float64\n",
      " 11  month                    10000 non-null  int32  \n",
      " 12  operatingsystems         10000 non-null  int32  \n",
      " 13  browser                  10000 non-null  int32  \n",
      " 14  region                   10000 non-null  int64  \n",
      " 15  traffictype              10000 non-null  int32  \n",
      " 16  visitortype              10000 non-null  int32  \n",
      " 17  weekend                  10000 non-null  int64  \n",
      "dtypes: float64(7), int32(5), int64(6)\n",
      "memory usage: 1.2 MB\n"
     ]
    }
   ],
   "source": [
    "test_data.info()"
   ]
  },
  {
   "cell_type": "markdown",
   "id": "be46f966",
   "metadata": {},
   "source": [
    "# TRAINING THE MODEL"
   ]
  },
  {
   "cell_type": "code",
   "execution_count": 40,
   "id": "edad87bb",
   "metadata": {},
   "outputs": [],
   "source": [
    "X_train = train_data.drop(\"revenue\",axis=1)\n",
    "y_train = train_data[\"revenue\"]"
   ]
  },
  {
   "cell_type": "code",
   "execution_count": 41,
   "id": "e3e570cd",
   "metadata": {},
   "outputs": [],
   "source": [
    "X_test = test_data"
   ]
  },
  {
   "cell_type": "markdown",
   "id": "fa44ddeb",
   "metadata": {},
   "source": [
    "# Cross Validation Like KFOLD and Hyperparameter Tuning"
   ]
  },
  {
   "cell_type": "code",
   "execution_count": 62,
   "id": "25f73303",
   "metadata": {},
   "outputs": [],
   "source": [
    "from sklearn.linear_model import LogisticRegression\n",
    "from sklearn.metrics import accuracy_score,confusion_matrix,classification_report\n",
    "from sklearn.model_selection import KFold\n",
    "import numpy as np\n",
    "from sklearn.model_selection import GridSearchCV"
   ]
  },
  {
   "cell_type": "code",
   "execution_count": 63,
   "id": "030e262e",
   "metadata": {},
   "outputs": [],
   "source": [
    "log_class=LogisticRegression()\n",
    "grid={'C':10.0 **np.arange(-2,3),'penalty':['l1','l2']}\n",
    "cv=KFold(n_splits=5,random_state=None,shuffle=False)"
   ]
  },
  {
   "cell_type": "code",
   "execution_count": 64,
   "id": "b6498fef",
   "metadata": {},
   "outputs": [
    {
     "name": "stderr",
     "output_type": "stream",
     "text": [
      "C:\\Users\\heena\\anaconda3\\lib\\site-packages\\sklearn\\model_selection\\_validation.py:372: FitFailedWarning: \n",
      "25 fits failed out of a total of 50.\n",
      "The score on these train-test partitions for these parameters will be set to nan.\n",
      "If these failures are not expected, you can try to debug them by setting error_score='raise'.\n",
      "\n",
      "Below are more details about the failures:\n",
      "--------------------------------------------------------------------------------\n",
      "25 fits failed with the following error:\n",
      "Traceback (most recent call last):\n",
      "  File \"C:\\Users\\heena\\anaconda3\\lib\\site-packages\\sklearn\\model_selection\\_validation.py\", line 680, in _fit_and_score\n",
      "    estimator.fit(X_train, y_train, **fit_params)\n",
      "  File \"C:\\Users\\heena\\anaconda3\\lib\\site-packages\\sklearn\\linear_model\\_logistic.py\", line 1461, in fit\n",
      "    solver = _check_solver(self.solver, self.penalty, self.dual)\n",
      "  File \"C:\\Users\\heena\\anaconda3\\lib\\site-packages\\sklearn\\linear_model\\_logistic.py\", line 447, in _check_solver\n",
      "    raise ValueError(\n",
      "ValueError: Solver lbfgs supports only 'l2' or 'none' penalties, got l1 penalty.\n",
      "\n",
      "  warnings.warn(some_fits_failed_message, FitFailedWarning)\n",
      "C:\\Users\\heena\\anaconda3\\lib\\site-packages\\sklearn\\model_selection\\_search.py:969: UserWarning: One or more of the test scores are non-finite: [       nan 0.70218072        nan 0.70040575        nan 0.70255148\n",
      "        nan 0.70641516        nan 0.70253768]\n",
      "  warnings.warn(\n",
      "C:\\Users\\heena\\anaconda3\\lib\\site-packages\\sklearn\\linear_model\\_logistic.py:814: ConvergenceWarning: lbfgs failed to converge (status=1):\n",
      "STOP: TOTAL NO. of ITERATIONS REACHED LIMIT.\n",
      "\n",
      "Increase the number of iterations (max_iter) or scale the data as shown in:\n",
      "    https://scikit-learn.org/stable/modules/preprocessing.html\n",
      "Please also refer to the documentation for alternative solver options:\n",
      "    https://scikit-learn.org/stable/modules/linear_model.html#logistic-regression\n",
      "  n_iter_i = _check_optimize_result(\n"
     ]
    },
    {
     "data": {
      "text/plain": [
       "GridSearchCV(cv=KFold(n_splits=5, random_state=None, shuffle=False),\n",
       "             estimator=LogisticRegression(), n_jobs=-1,\n",
       "             param_grid={'C': array([1.e-02, 1.e-01, 1.e+00, 1.e+01, 1.e+02]),\n",
       "                         'penalty': ['l1', 'l2']},\n",
       "             scoring='f1_macro')"
      ]
     },
     "execution_count": 64,
     "metadata": {},
     "output_type": "execute_result"
    }
   ],
   "source": [
    "clf=GridSearchCV(log_class,grid,cv=cv,n_jobs=-1,scoring='f1_macro')\n",
    "clf.fit(X_train,y_train)"
   ]
  },
  {
   "cell_type": "code",
   "execution_count": 65,
   "id": "2c0007f2",
   "metadata": {},
   "outputs": [],
   "source": [
    "y_pred=clf.predict(X_test)"
   ]
  },
  {
   "cell_type": "code",
   "execution_count": 66,
   "id": "5dcb87a6",
   "metadata": {},
   "outputs": [
    {
     "data": {
      "text/plain": [
       "array([0, 0, 0, ..., 0, 0, 0], dtype=int64)"
      ]
     },
     "execution_count": 66,
     "metadata": {},
     "output_type": "execute_result"
    }
   ],
   "source": [
    "y_pred"
   ]
  },
  {
   "cell_type": "code",
   "execution_count": 100,
   "id": "ccade476",
   "metadata": {},
   "outputs": [],
   "source": [
    "pd.DataFrame(y_pred).to_csv(\"KFOLD.csv\",index=False,header=False)"
   ]
  },
  {
   "cell_type": "code",
   "execution_count": 101,
   "id": "d774b10b",
   "metadata": {},
   "outputs": [
    {
     "data": {
      "text/html": [
       "<div>\n",
       "<style scoped>\n",
       "    .dataframe tbody tr th:only-of-type {\n",
       "        vertical-align: middle;\n",
       "    }\n",
       "\n",
       "    .dataframe tbody tr th {\n",
       "        vertical-align: top;\n",
       "    }\n",
       "\n",
       "    .dataframe thead th {\n",
       "        text-align: right;\n",
       "    }\n",
       "</style>\n",
       "<table border=\"1\" class=\"dataframe\">\n",
       "  <thead>\n",
       "    <tr style=\"text-align: right;\">\n",
       "      <th></th>\n",
       "      <th>session_id</th>\n",
       "      <th>Y</th>\n",
       "    </tr>\n",
       "  </thead>\n",
       "  <tbody>\n",
       "    <tr>\n",
       "      <th>0</th>\n",
       "      <td>283149</td>\n",
       "      <td>0</td>\n",
       "    </tr>\n",
       "    <tr>\n",
       "      <th>1</th>\n",
       "      <td>253020</td>\n",
       "      <td>0</td>\n",
       "    </tr>\n",
       "    <tr>\n",
       "      <th>2</th>\n",
       "      <td>348435</td>\n",
       "      <td>0</td>\n",
       "    </tr>\n",
       "    <tr>\n",
       "      <th>3</th>\n",
       "      <td>299763</td>\n",
       "      <td>0</td>\n",
       "    </tr>\n",
       "    <tr>\n",
       "      <th>4</th>\n",
       "      <td>195120</td>\n",
       "      <td>0</td>\n",
       "    </tr>\n",
       "    <tr>\n",
       "      <th>...</th>\n",
       "      <td>...</td>\n",
       "      <td>...</td>\n",
       "    </tr>\n",
       "    <tr>\n",
       "      <th>9995</th>\n",
       "      <td>278347</td>\n",
       "      <td>1</td>\n",
       "    </tr>\n",
       "    <tr>\n",
       "      <th>9996</th>\n",
       "      <td>498240</td>\n",
       "      <td>0</td>\n",
       "    </tr>\n",
       "    <tr>\n",
       "      <th>9997</th>\n",
       "      <td>296710</td>\n",
       "      <td>0</td>\n",
       "    </tr>\n",
       "    <tr>\n",
       "      <th>9998</th>\n",
       "      <td>226309</td>\n",
       "      <td>0</td>\n",
       "    </tr>\n",
       "    <tr>\n",
       "      <th>9999</th>\n",
       "      <td>252349</td>\n",
       "      <td>0</td>\n",
       "    </tr>\n",
       "  </tbody>\n",
       "</table>\n",
       "<p>10000 rows × 2 columns</p>\n",
       "</div>"
      ],
      "text/plain": [
       "      session_id  Y\n",
       "0         283149  0\n",
       "1         253020  0\n",
       "2         348435  0\n",
       "3         299763  0\n",
       "4         195120  0\n",
       "...          ... ..\n",
       "9995      278347  1\n",
       "9996      498240  0\n",
       "9997      296710  0\n",
       "9998      226309  0\n",
       "9999      252349  0\n",
       "\n",
       "[10000 rows x 2 columns]"
      ]
     },
     "execution_count": 101,
     "metadata": {},
     "output_type": "execute_result"
    }
   ],
   "source": [
    "#submission\n",
    "data_test=pd.read_csv('ecommerce_test.csv')\n",
    "submission = pd.DataFrame({\n",
    "        \"session_id\": data_test[\"session_id\"],\n",
    "        \"Y\": y_pred\n",
    "    })\n",
    "\n",
    "submission.to_csv('submission.csv', index=False)\n",
    "submission"
   ]
  },
  {
   "cell_type": "markdown",
   "id": "e6e5c7be",
   "metadata": {},
   "source": [
    "# RandomForestClassifier"
   ]
  },
  {
   "cell_type": "code",
   "execution_count": 67,
   "id": "b4da620a",
   "metadata": {},
   "outputs": [],
   "source": [
    "class_weight=dict({0:1,1:100})"
   ]
  },
  {
   "cell_type": "code",
   "execution_count": 68,
   "id": "7cdb607c",
   "metadata": {},
   "outputs": [
    {
     "data": {
      "text/plain": [
       "RandomForestClassifier(class_weight={0: 1, 1: 100})"
      ]
     },
     "execution_count": 68,
     "metadata": {},
     "output_type": "execute_result"
    }
   ],
   "source": [
    "from sklearn.ensemble import RandomForestClassifier\n",
    "classifier=RandomForestClassifier(class_weight=class_weight)\n",
    "classifier.fit(X_train,y_train)"
   ]
  },
  {
   "cell_type": "code",
   "execution_count": 70,
   "id": "a09d57dc",
   "metadata": {},
   "outputs": [],
   "source": [
    "y_pred3=classifier.predict(X_test)"
   ]
  },
  {
   "cell_type": "code",
   "execution_count": 71,
   "id": "50f97068",
   "metadata": {},
   "outputs": [
    {
     "data": {
      "text/plain": [
       "array([0, 0, 0, ..., 0, 0, 0], dtype=int64)"
      ]
     },
     "execution_count": 71,
     "metadata": {},
     "output_type": "execute_result"
    }
   ],
   "source": [
    "y_pred3"
   ]
  },
  {
   "cell_type": "markdown",
   "id": "aba8ecc5",
   "metadata": {},
   "source": [
    "# Ensemble Techniques"
   ]
  },
  {
   "cell_type": "code",
   "execution_count": 90,
   "id": "93fd20cf",
   "metadata": {},
   "outputs": [],
   "source": [
    "from imblearn.ensemble import EasyEnsembleClassifier"
   ]
  },
  {
   "cell_type": "code",
   "execution_count": 92,
   "id": "2e19c174",
   "metadata": {},
   "outputs": [],
   "source": [
    "easy=EasyEnsembleClassifier()"
   ]
  },
  {
   "cell_type": "code",
   "execution_count": 93,
   "id": "840064e6",
   "metadata": {},
   "outputs": [
    {
     "data": {
      "text/plain": [
       "EasyEnsembleClassifier()"
      ]
     },
     "execution_count": 93,
     "metadata": {},
     "output_type": "execute_result"
    }
   ],
   "source": [
    "easy.fit(X_train,y_train)"
   ]
  },
  {
   "cell_type": "code",
   "execution_count": 94,
   "id": "99e6e7ec",
   "metadata": {},
   "outputs": [],
   "source": [
    "y_pred4=easy.predict(X_test)"
   ]
  },
  {
   "cell_type": "markdown",
   "id": "18053e16",
   "metadata": {},
   "source": [
    "# SMOTETomek"
   ]
  },
  {
   "cell_type": "code",
   "execution_count": 96,
   "id": "effc64bf",
   "metadata": {},
   "outputs": [],
   "source": [
    "from imblearn.combine import SMOTETomek"
   ]
  },
  {
   "cell_type": "code",
   "execution_count": 98,
   "id": "bf80639f",
   "metadata": {},
   "outputs": [],
   "source": [
    "os=SMOTETomek()"
   ]
  },
  {
   "cell_type": "code",
   "execution_count": null,
   "id": "fbce9a74",
   "metadata": {},
   "outputs": [],
   "source": [
    "SMOTETomek(\n",
    "    *,\n",
    "    sampling_strategy='auto',\n",
    "    random_state=None,\n",
    "    smote=None,\n",
    "    tomek=None,\n",
    "    n_jobs=None,\n",
    ")"
   ]
  },
  {
   "cell_type": "code",
   "execution_count": 99,
   "id": "5d57cfa1",
   "metadata": {},
   "outputs": [
    {
     "ename": "AttributeError",
     "evalue": "'SMOTETomek' object has no attribute 'fit_sample'",
     "output_type": "error",
     "traceback": [
      "\u001b[1;31m---------------------------------------------------------------------------\u001b[0m",
      "\u001b[1;31mAttributeError\u001b[0m                            Traceback (most recent call last)",
      "\u001b[1;32m~\\AppData\\Local\\Temp\\ipykernel_2340\\4141102740.py\u001b[0m in \u001b[0;36m<module>\u001b[1;34m\u001b[0m\n\u001b[1;32m----> 1\u001b[1;33m \u001b[0mX_train_ns\u001b[0m\u001b[1;33m,\u001b[0m\u001b[0my_train_ns\u001b[0m\u001b[1;33m=\u001b[0m\u001b[0mos\u001b[0m\u001b[1;33m.\u001b[0m\u001b[0mfit_sample\u001b[0m\u001b[1;33m(\u001b[0m\u001b[0mX_train\u001b[0m\u001b[1;33m,\u001b[0m\u001b[0my_train\u001b[0m\u001b[1;33m)\u001b[0m\u001b[1;33m\u001b[0m\u001b[1;33m\u001b[0m\u001b[0m\n\u001b[0m",
      "\u001b[1;31mAttributeError\u001b[0m: 'SMOTETomek' object has no attribute 'fit_sample'"
     ]
    }
   ],
   "source": [
    "X_train_ns,y_train_ns=os.fit_sample(X_train,y_train)"
   ]
  },
  {
   "cell_type": "code",
   "execution_count": null,
   "id": "7b058bba",
   "metadata": {},
   "outputs": [],
   "source": []
  }
 ],
 "metadata": {
  "kernelspec": {
   "display_name": "Python 3 (ipykernel)",
   "language": "python",
   "name": "python3"
  },
  "language_info": {
   "codemirror_mode": {
    "name": "ipython",
    "version": 3
   },
   "file_extension": ".py",
   "mimetype": "text/x-python",
   "name": "python",
   "nbconvert_exporter": "python",
   "pygments_lexer": "ipython3",
   "version": "3.9.13"
  }
 },
 "nbformat": 4,
 "nbformat_minor": 5
}
